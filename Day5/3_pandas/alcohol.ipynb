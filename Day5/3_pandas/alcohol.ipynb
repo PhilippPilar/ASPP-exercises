{
 "cells": [
  {
   "cell_type": "markdown",
   "metadata": {},
   "source": [
    "# Ex - GroupBy"
   ]
  },
  {
   "cell_type": "markdown",
   "metadata": {},
   "source": [
    "### Introduction:\n",
    "\n",
    "GroupBy can be summarizes as Split-Apply-Combine.\n",
    "\n",
    "Special thanks to: https://github.com/justmarkham for sharing the dataset and materials.\n",
    "\n",
    "Check out this [Diagram](http://i.imgur.com/yjNkiwL.png)  \n",
    "### Step 1. Import the necessary libraries"
   ]
  },
  {
   "cell_type": "code",
   "execution_count": 1,
   "metadata": {},
   "outputs": [],
   "source": [
    "import pandas as pd"
   ]
  },
  {
   "cell_type": "markdown",
   "metadata": {},
   "source": [
    "### Step 2. Import the dataset from this [address](https://raw.githubusercontent.com/justmarkham/DAT8/master/data/drinks.csv). "
   ]
  },
  {
   "cell_type": "markdown",
   "metadata": {},
   "source": [
    "### Step 3. Assign it to a variable called drinks."
   ]
  },
  {
   "cell_type": "code",
   "execution_count": 18,
   "metadata": {},
   "outputs": [
    {
     "data": {
      "text/html": [
       "<div>\n",
       "<style scoped>\n",
       "    .dataframe tbody tr th:only-of-type {\n",
       "        vertical-align: middle;\n",
       "    }\n",
       "\n",
       "    .dataframe tbody tr th {\n",
       "        vertical-align: top;\n",
       "    }\n",
       "\n",
       "    .dataframe thead th {\n",
       "        text-align: right;\n",
       "    }\n",
       "</style>\n",
       "<table border=\"1\" class=\"dataframe\">\n",
       "  <thead>\n",
       "    <tr style=\"text-align: right;\">\n",
       "      <th></th>\n",
       "      <th>beer_servings</th>\n",
       "      <th>spirit_servings</th>\n",
       "      <th>wine_servings</th>\n",
       "      <th>total_litres_of_pure_alcohol</th>\n",
       "      <th>continent</th>\n",
       "    </tr>\n",
       "    <tr>\n",
       "      <th>country</th>\n",
       "      <th></th>\n",
       "      <th></th>\n",
       "      <th></th>\n",
       "      <th></th>\n",
       "      <th></th>\n",
       "    </tr>\n",
       "  </thead>\n",
       "  <tbody>\n",
       "    <tr>\n",
       "      <th>Afghanistan</th>\n",
       "      <td>0</td>\n",
       "      <td>0</td>\n",
       "      <td>0</td>\n",
       "      <td>0.0</td>\n",
       "      <td>AS</td>\n",
       "    </tr>\n",
       "    <tr>\n",
       "      <th>Albania</th>\n",
       "      <td>89</td>\n",
       "      <td>132</td>\n",
       "      <td>54</td>\n",
       "      <td>4.9</td>\n",
       "      <td>EU</td>\n",
       "    </tr>\n",
       "    <tr>\n",
       "      <th>Algeria</th>\n",
       "      <td>25</td>\n",
       "      <td>0</td>\n",
       "      <td>14</td>\n",
       "      <td>0.7</td>\n",
       "      <td>AF</td>\n",
       "    </tr>\n",
       "    <tr>\n",
       "      <th>Andorra</th>\n",
       "      <td>245</td>\n",
       "      <td>138</td>\n",
       "      <td>312</td>\n",
       "      <td>12.4</td>\n",
       "      <td>EU</td>\n",
       "    </tr>\n",
       "    <tr>\n",
       "      <th>Angola</th>\n",
       "      <td>217</td>\n",
       "      <td>57</td>\n",
       "      <td>45</td>\n",
       "      <td>5.9</td>\n",
       "      <td>AF</td>\n",
       "    </tr>\n",
       "  </tbody>\n",
       "</table>\n",
       "</div>"
      ],
      "text/plain": [
       "             beer_servings  spirit_servings  wine_servings  \\\n",
       "country                                                      \n",
       "Afghanistan              0                0              0   \n",
       "Albania                 89              132             54   \n",
       "Algeria                 25                0             14   \n",
       "Andorra                245              138            312   \n",
       "Angola                 217               57             45   \n",
       "\n",
       "             total_litres_of_pure_alcohol continent  \n",
       "country                                              \n",
       "Afghanistan                           0.0        AS  \n",
       "Albania                               4.9        EU  \n",
       "Algeria                               0.7        AF  \n",
       "Andorra                              12.4        EU  \n",
       "Angola                                5.9        AF  "
      ]
     },
     "execution_count": 18,
     "metadata": {},
     "output_type": "execute_result"
    }
   ],
   "source": [
    "drinks = pd.read_csv('https://raw.githubusercontent.com/justmarkham/DAT8/master/data/drinks.csv').dropna()\n",
    "drinks.set_index('country', inplace = True)\n",
    "drinks.head()"
   ]
  },
  {
   "cell_type": "markdown",
   "metadata": {},
   "source": [
    "### Step 4. Which continent drinks more beer on average?"
   ]
  },
  {
   "cell_type": "code",
   "execution_count": 19,
   "metadata": {},
   "outputs": [
    {
     "name": "stdout",
     "output_type": "stream",
     "text": [
      "continent with highest beer consumption: EU\n"
     ]
    }
   ],
   "source": [
    "continents = drinks.continent.unique()\n",
    "cbeeravg_max = 0\n",
    "for continent in continents:\n",
    "    cbeeravg = drinks[drinks['continent']==continent].mean()['beer_servings']\n",
    "    if cbeeravg > cbeeravg_max:\n",
    "        cbeeravg_max = cbeeravg\n",
    "        continent_max = continent\n",
    "        \n",
    "print('continent with highest beer consumption:',continent_max)"
   ]
  },
  {
   "cell_type": "markdown",
   "metadata": {},
   "source": [
    "### Step 5. For each continent print the statistics for wine consumption."
   ]
  },
  {
   "cell_type": "code",
   "execution_count": 20,
   "metadata": {},
   "outputs": [
    {
     "name": "stdout",
     "output_type": "stream",
     "text": [
      "continent: AS\n",
      "count     44.000000\n",
      "mean       9.068182\n",
      "std       21.667034\n",
      "min        0.000000\n",
      "25%        0.000000\n",
      "50%        1.000000\n",
      "75%        8.000000\n",
      "max      123.000000\n",
      "Name: wine_servings, dtype: float64\n",
      "\n",
      "\n",
      "continent: EU\n",
      "count     45.000000\n",
      "mean     142.222222\n",
      "std       97.421738\n",
      "min        0.000000\n",
      "25%       59.000000\n",
      "50%      128.000000\n",
      "75%      195.000000\n",
      "max      370.000000\n",
      "Name: wine_servings, dtype: float64\n",
      "\n",
      "\n",
      "continent: AF\n",
      "count     53.000000\n",
      "mean      16.264151\n",
      "std       38.846419\n",
      "min        0.000000\n",
      "25%        1.000000\n",
      "50%        2.000000\n",
      "75%       13.000000\n",
      "max      233.000000\n",
      "Name: wine_servings, dtype: float64\n",
      "\n",
      "\n",
      "continent: SA\n",
      "count     12.000000\n",
      "mean      62.416667\n",
      "std       88.620189\n",
      "min        1.000000\n",
      "25%        3.000000\n",
      "50%       12.000000\n",
      "75%       98.500000\n",
      "max      221.000000\n",
      "Name: wine_servings, dtype: float64\n",
      "\n",
      "\n",
      "continent: OC\n",
      "count     16.00000\n",
      "mean      35.62500\n",
      "std       64.55579\n",
      "min        0.00000\n",
      "25%        1.00000\n",
      "50%        8.50000\n",
      "75%       23.25000\n",
      "max      212.00000\n",
      "Name: wine_servings, dtype: float64\n",
      "\n",
      "\n"
     ]
    }
   ],
   "source": [
    "for continent in continents:\n",
    "    print('continent:',continent)\n",
    "    print(drinks[drinks['continent']==continent]['wine_servings'].describe())\n",
    "    print('\\n')"
   ]
  },
  {
   "cell_type": "markdown",
   "metadata": {},
   "source": [
    "### Step 6. Print the mean alcoohol consumption per continent for every column"
   ]
  },
  {
   "cell_type": "code",
   "execution_count": 24,
   "metadata": {},
   "outputs": [
    {
     "name": "stdout",
     "output_type": "stream",
     "text": [
      "continent: AS\n",
      "beer_servings                   37.045455\n",
      "spirit_servings                 60.840909\n",
      "wine_servings                    9.068182\n",
      "total_litres_of_pure_alcohol     2.170455\n",
      "dtype: float64\n",
      "\n",
      "\n",
      "continent: EU\n",
      "beer_servings                   193.777778\n",
      "spirit_servings                 132.555556\n",
      "wine_servings                   142.222222\n",
      "total_litres_of_pure_alcohol      8.617778\n",
      "dtype: float64\n",
      "\n",
      "\n",
      "continent: AF\n",
      "beer_servings                   61.471698\n",
      "spirit_servings                 16.339623\n",
      "wine_servings                   16.264151\n",
      "total_litres_of_pure_alcohol     3.007547\n",
      "dtype: float64\n",
      "\n",
      "\n",
      "continent: SA\n",
      "beer_servings                   175.083333\n",
      "spirit_servings                 114.750000\n",
      "wine_servings                    62.416667\n",
      "total_litres_of_pure_alcohol      6.308333\n",
      "dtype: float64\n",
      "\n",
      "\n",
      "continent: OC\n",
      "beer_servings                   89.68750\n",
      "spirit_servings                 58.43750\n",
      "wine_servings                   35.62500\n",
      "total_litres_of_pure_alcohol     3.38125\n",
      "dtype: float64\n",
      "\n",
      "\n"
     ]
    }
   ],
   "source": [
    "for continent in continents:\n",
    "    print('continent:',continent)\n",
    "    print(drinks[drinks['continent'] == continent].mean())\n",
    "    print('\\n')"
   ]
  },
  {
   "cell_type": "markdown",
   "metadata": {},
   "source": [
    "### Step 7. Print the median alcoohol consumption per continent for every column"
   ]
  },
  {
   "cell_type": "code",
   "execution_count": 25,
   "metadata": {},
   "outputs": [
    {
     "name": "stdout",
     "output_type": "stream",
     "text": [
      "continent: AS\n",
      "beer_servings                   17.5\n",
      "spirit_servings                 16.0\n",
      "wine_servings                    1.0\n",
      "total_litres_of_pure_alcohol     1.2\n",
      "dtype: float64\n",
      "\n",
      "\n",
      "continent: EU\n",
      "beer_servings                   219.0\n",
      "spirit_servings                 122.0\n",
      "wine_servings                   128.0\n",
      "total_litres_of_pure_alcohol     10.0\n",
      "dtype: float64\n",
      "\n",
      "\n",
      "continent: AF\n",
      "beer_servings                   32.0\n",
      "spirit_servings                  3.0\n",
      "wine_servings                    2.0\n",
      "total_litres_of_pure_alcohol     2.3\n",
      "dtype: float64\n",
      "\n",
      "\n",
      "continent: SA\n",
      "beer_servings                   162.50\n",
      "spirit_servings                 108.50\n",
      "wine_servings                    12.00\n",
      "total_litres_of_pure_alcohol      6.85\n",
      "dtype: float64\n",
      "\n",
      "\n",
      "continent: OC\n",
      "beer_servings                   52.50\n",
      "spirit_servings                 37.00\n",
      "wine_servings                    8.50\n",
      "total_litres_of_pure_alcohol     1.75\n",
      "dtype: float64\n",
      "\n",
      "\n"
     ]
    }
   ],
   "source": [
    "for continent in continents:\n",
    "    print('continent:',continent)\n",
    "    print(drinks[drinks['continent'] == continent].median())\n",
    "    print('\\n')"
   ]
  },
  {
   "cell_type": "markdown",
   "metadata": {},
   "source": [
    "### Step 8. Print the mean, min and max values for spirit consumption.\n",
    "#### This time output a DataFrame"
   ]
  },
  {
   "cell_type": "code",
   "execution_count": 47,
   "metadata": {},
   "outputs": [
    {
     "data": {
      "text/html": [
       "<div>\n",
       "<style scoped>\n",
       "    .dataframe tbody tr th:only-of-type {\n",
       "        vertical-align: middle;\n",
       "    }\n",
       "\n",
       "    .dataframe tbody tr th {\n",
       "        vertical-align: top;\n",
       "    }\n",
       "\n",
       "    .dataframe thead th {\n",
       "        text-align: right;\n",
       "    }\n",
       "</style>\n",
       "<table border=\"1\" class=\"dataframe\">\n",
       "  <thead>\n",
       "    <tr style=\"text-align: right;\">\n",
       "      <th></th>\n",
       "      <th>mean</th>\n",
       "      <th>min</th>\n",
       "      <th>max</th>\n",
       "    </tr>\n",
       "    <tr>\n",
       "      <th>drink</th>\n",
       "      <th></th>\n",
       "      <th></th>\n",
       "      <th></th>\n",
       "    </tr>\n",
       "  </thead>\n",
       "  <tbody>\n",
       "    <tr>\n",
       "      <th>spirit</th>\n",
       "      <td>69.529412</td>\n",
       "      <td>0</td>\n",
       "      <td>373</td>\n",
       "    </tr>\n",
       "  </tbody>\n",
       "</table>\n",
       "</div>"
      ],
      "text/plain": [
       "             mean  min  max\n",
       "drink                      \n",
       "spirit  69.529412    0  373"
      ]
     },
     "execution_count": 47,
     "metadata": {},
     "output_type": "execute_result"
    }
   ],
   "source": [
    "spirit = pd.DataFrame({'drink': ['spirit'],\n",
    "                       'mean': [drinks['spirit_servings'].mean()],\n",
    "                       'min': [drinks['spirit_servings'].min()],\n",
    "                       'max': [drinks['spirit_servings'].max()]})\n",
    "\n",
    "spirit.set_index('drink', inplace = True)\n",
    "spirit.head()"
   ]
  },
  {
   "cell_type": "code",
   "execution_count": null,
   "metadata": {},
   "outputs": [],
   "source": []
  }
 ],
 "metadata": {
  "kernelspec": {
   "display_name": "Python 3",
   "language": "python",
   "name": "python3"
  },
  "language_info": {
   "codemirror_mode": {
    "name": "ipython",
    "version": 3
   },
   "file_extension": ".py",
   "mimetype": "text/x-python",
   "name": "python",
   "nbconvert_exporter": "python",
   "pygments_lexer": "ipython3",
   "version": "3.8.5"
  }
 },
 "nbformat": 4,
 "nbformat_minor": 1
}
